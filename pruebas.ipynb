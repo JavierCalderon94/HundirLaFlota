{
 "cells": [
  {
   "cell_type": "code",
   "execution_count": 47,
   "metadata": {},
   "outputs": [
    {
     "name": "stdout",
     "output_type": "stream",
     "text": [
      "[[(8, 2), (7, 2), (6, 2), (5, 2)], [(8, 5), (8, 4), (8, 3)], [(1, 4), (1, 3), (1, 2)], [(2, 4), (2, 5)], [(9, 7), (9, 8)], [(3, 7), (3, 6)], [(6, 6)], [(0, 0)], [(9, 9)], [(9, 3)]]\n",
      "[[(7, 5), (6, 5), (5, 5), (4, 5)], [(2, 8), (2, 7), (2, 6)], [(1, 6), (1, 7), (1, 8)], [(1, 3), (1, 4)], [(3, 6), (3, 7)], [(5, 4), (5, 3)], [(9, 6)], [(2, 0)], [(8, 2)], [(3, 5)]]\n"
     ]
    }
   ],
   "source": [
    "import funciones as f\n",
    "\n",
    "tablero_jugador = f.crear_tablero()\n",
    "tablero_maquina = f.crear_tablero()\n",
    "tablero_jugador, barcos_jugador = f.colocar_barcos(tablero_jugador)\n",
    "tablero_maquina, barcos_maquina = f.colocar_barcos(tablero_maquina)\n",
    "\n",
    "print(barcos_jugador)\n",
    "print(barcos_maquina)"
   ]
  },
  {
   "cell_type": "code",
   "execution_count": 48,
   "metadata": {},
   "outputs": [
    {
     "name": "stdout",
     "output_type": "stream",
     "text": [
      "[['O' '_' '_' '_' '_' '_' '_' '_' '_' '_']\n",
      " ['_' '_' 'O' 'O' 'O' '_' '_' '_' '_' '_']\n",
      " ['_' '_' '_' '_' 'X' 'X' '_' '_' '_' '_']\n",
      " ['_' '_' '_' '_' '_' '_' 'O' 'O' '_' '_']\n",
      " ['_' '_' '_' '_' '_' '_' '_' '_' '_' '_']\n",
      " ['_' '_' 'O' '_' '_' '_' '_' '_' '_' '_']\n",
      " ['_' '_' 'O' '_' '_' '_' 'O' '_' '_' '_']\n",
      " ['_' '_' 'O' '_' '_' '_' '_' '_' '_' '_']\n",
      " ['_' '_' 'O' 'O' 'O' 'O' '_' '_' '_' '_']\n",
      " ['_' '_' '_' 'O' '_' '_' '_' 'O' 'O' 'O']]\n"
     ]
    }
   ],
   "source": [
    "tablero_jugador[2, 4]=\"X\"\n",
    "tablero_jugador[2, 5]=\"X\"\n",
    "print(tablero_jugador)"
   ]
  },
  {
   "cell_type": "code",
   "execution_count": 49,
   "metadata": {},
   "outputs": [
    {
     "name": "stdout",
     "output_type": "stream",
     "text": [
      "¡Barco hundido!\n",
      "[['O' '_' '_' '_' '_' '_' '_' '_' '_' '_']\n",
      " ['_' '_' 'O' 'O' 'O' '_' '_' '_' '_' '_']\n",
      " ['_' '_' '_' '_' '■' '■' '_' '_' '_' '_']\n",
      " ['_' '_' '_' '_' '_' '_' 'O' 'O' '_' '_']\n",
      " ['_' '_' '_' '_' '_' '_' '_' '_' '_' '_']\n",
      " ['_' '_' 'O' '_' '_' '_' '_' '_' '_' '_']\n",
      " ['_' '_' 'O' '_' '_' '_' 'O' '_' '_' '_']\n",
      " ['_' '_' 'O' '_' '_' '_' '_' '_' '_' '_']\n",
      " ['_' '_' 'O' 'O' 'O' 'O' '_' '_' '_' '_']\n",
      " ['_' '_' '_' 'O' '_' '_' '_' 'O' 'O' 'O']]\n"
     ]
    }
   ],
   "source": [
    "hundido=False\n",
    "for i in barcos_jugador:\n",
    "    l_barco = len(i)\n",
    "    for h, k in i:\n",
    "        if tablero_jugador[h,k] == \"X\":\n",
    "            l_barco -= 1\n",
    "    if l_barco == 0:\n",
    "        print(\"¡Barco hundido!\")\n",
    "        for h, k in i:\n",
    "            tablero_jugador[h,k] = \"■\"\n",
    "    \n",
    "print(tablero_jugador)"
   ]
  },
  {
   "cell_type": "code",
   "execution_count": null,
   "metadata": {},
   "outputs": [],
   "source": [
    "def input1(tablero):\n",
    "    entrada=True\n",
    "    while entrada:\n",
    "        try:\n",
    "            fila=int(input(\"¿En qué fila vas a atacar? (Valores válidos: 0-\"+str(len(tablero)-1)+\")\\n\"))\n",
    "            if fila>=0 and fila<=len(tablero)-1:\n",
    "                entrada=False\n",
    "            else:\n",
    "                print(\"No es un valor válido, por favor vuelve a intentarlo\",\"\\n\")\n",
    "                time.sleep(0.3)\n",
    "                continue\n",
    "\n",
    "        except:\n",
    "            print(\"No es un valor válido, por favor vuelve a intentarlo\",\"\\n\")\n",
    "            time.sleep(0.3)\n",
    "            continue\n",
    "        \n",
    "        try:\n",
    "            columna=int(input(\"¿En qué columna vas a atacar? (Valores válidos: 0-\"+str(len(tablero)-1)+\")\\n\"))\n",
    "            if columna>=0 and columna<=len(tablero)-1:\n",
    "                entrada=False\n",
    "            else:\n",
    "                print(\"No es un valor válido, por favor vuelve a intentarlo\",\"\\n\")\n",
    "                time.sleep(0.3)\n",
    "                continue\n",
    "            \n",
    "        except:\n",
    "            print(\"No es un valor válido, por favor vuelve a intentarlo\",\"\\n\")\n",
    "            time.sleep(0.3)\n",
    "            continue\n",
    "        \n",
    "    return fila,columna"
   ]
  }
 ],
 "metadata": {
  "kernelspec": {
   "display_name": "Python 3",
   "language": "python",
   "name": "python3"
  },
  "language_info": {
   "codemirror_mode": {
    "name": "ipython",
    "version": 3
   },
   "file_extension": ".py",
   "mimetype": "text/x-python",
   "name": "python",
   "nbconvert_exporter": "python",
   "pygments_lexer": "ipython3",
   "version": "3.11.7"
  }
 },
 "nbformat": 4,
 "nbformat_minor": 2
}
