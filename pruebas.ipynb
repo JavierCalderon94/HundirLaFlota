{
 "cells": [
  {
   "cell_type": "code",
   "execution_count": 29,
   "metadata": {},
   "outputs": [
    {
     "name": "stdout",
     "output_type": "stream",
     "text": [
      "[[(6, 6), (7, 6), (8, 6), (9, 6)], [(6, 4), (5, 4), (4, 4)], [(3, 9), (3, 8), (3, 7)], [(5, 3), (4, 3)], [(2, 5), (1, 5)], [(2, 2), (3, 2)], [(1, 0)], [(7, 7)], [(0, 0)], [(0, 3)]]\n",
      "[[(7, 8), (6, 8), (5, 8), (4, 8)], [(8, 9), (8, 8), (8, 7)], [(2, 3), (2, 2), (2, 1)], [(7, 5), (7, 6)], [(9, 3), (9, 4)], [(3, 6), (3, 5)], [(6, 0)], [(4, 7)], [(3, 9)], [(9, 2)]]\n"
     ]
    }
   ],
   "source": [
    "import funciones as f\n",
    "\n",
    "tablero_jugador = f.crear_tablero()\n",
    "tablero_maquina = f.crear_tablero()\n",
    "tablero_jugador, barcos_jugador = f.colocar_barcos(tablero_jugador)\n",
    "tablero_maquina, barcos_maquina = f.colocar_barcos(tablero_maquina)\n",
    "\n",
    "print(barcos_jugador)\n",
    "print(barcos_maquina)"
   ]
  },
  {
   "cell_type": "code",
   "execution_count": 28,
   "metadata": {},
   "outputs": [],
   "source": [
    "def ganar(tablero):\n",
    "    tablero[tablero==\"O\"] = \"■\"\n",
    "    return tablero"
   ]
  },
  {
   "cell_type": "code",
   "execution_count": 31,
   "metadata": {},
   "outputs": [
    {
     "name": "stdout",
     "output_type": "stream",
     "text": [
      "[['O' '_' '_' 'O' '_' '_' '_' '_' '_' '_']\n",
      " ['O' '_' '_' '_' '_' 'O' '_' '_' '_' '_']\n",
      " ['_' '_' 'O' '_' '_' 'O' '_' '_' '_' '_']\n",
      " ['_' '_' 'O' '_' '_' '_' '_' 'O' 'O' 'O']\n",
      " ['_' '_' '_' 'O' 'O' '_' '_' '_' '_' '_']\n",
      " ['_' '_' '_' 'O' 'O' '_' '_' '_' '_' '_']\n",
      " ['_' '_' '_' '_' 'O' '_' 'O' '_' '_' '_']\n",
      " ['_' '_' '_' '_' '_' '_' 'O' 'O' '_' '_']\n",
      " ['_' '_' '_' '_' '_' '_' 'O' '_' '_' '_']\n",
      " ['_' '_' '_' '_' '_' '_' 'O' '_' '_' '_']]\n",
      "[['■' '_' '_' '■' '_' '_' '_' '_' '_' '_']\n",
      " ['■' '_' '_' '_' '_' '■' '_' '_' '_' '_']\n",
      " ['_' '_' '■' '_' '_' '■' '_' '_' '_' '_']\n",
      " ['_' '_' '■' '_' '_' '_' '_' '■' '■' '■']\n",
      " ['_' '_' '_' '■' '■' '_' '_' '_' '_' '_']\n",
      " ['_' '_' '_' '■' '■' '_' '_' '_' '_' '_']\n",
      " ['_' '_' '_' '_' '■' '_' '■' '_' '_' '_']\n",
      " ['_' '_' '_' '_' '_' '_' '■' '■' '_' '_']\n",
      " ['_' '_' '_' '_' '_' '_' '■' '_' '_' '_']\n",
      " ['_' '_' '_' '_' '_' '_' '■' '_' '_' '_']]\n"
     ]
    }
   ],
   "source": [
    "print(tablero_jugador)\n",
    "tablero_jugador = ganar(tablero_jugador)\n",
    "print(tablero_jugador)"
   ]
  },
  {
   "cell_type": "code",
   "execution_count": 22,
   "metadata": {},
   "outputs": [
    {
     "name": "stdout",
     "output_type": "stream",
     "text": [
      "Puedes hundir 10 barcos\n",
      "El barco nº1 ha sido hundido.\n",
      "[['_' '_' '_' '_' '_' '_' '_' '_' '_' '_']\n",
      " ['_' 'O' '_' '_' '_' '■' '■' '_' '_' '_']\n",
      " ['_' 'O' '_' '_' '_' '_' '■' '_' '_' '_']\n",
      " ['_' '_' '_' '_' '_' '_' '_' '_' '_' '_']\n",
      " ['_' '_' '_' '_' 'O' '_' '_' '_' '_' '_']\n",
      " ['_' 'O' '_' '_' '_' '■' '■' '■' '■' '_']\n",
      " ['_' 'O' '_' '_' '_' '_' '■' '■' '■' '_']\n",
      " ['_' 'O' '_' '_' '_' '_' '_' '_' '_' '_']\n",
      " ['_' '_' '_' '_' '_' '_' '_' '_' '_' '_']\n",
      " ['■' '■' '■' '_' '_' '■' '_' '_' '_' '_']]\n"
     ]
    }
   ],
   "source": [
    "hundir_barco(barcos_maquina,tablero_maquina)\n",
    "print(tablero_maquina)"
   ]
  },
  {
   "cell_type": "code",
   "execution_count": 26,
   "metadata": {},
   "outputs": [],
   "source": [
    "import time"
   ]
  },
  {
   "cell_type": "code",
   "execution_count": 48,
   "metadata": {},
   "outputs": [
    {
     "name": "stdout",
     "output_type": "stream",
     "text": [
      "[['O' '_' '_' '_' '_' '_' '_' '_' '_' '_']\n",
      " ['_' '_' 'O' 'O' 'O' '_' '_' '_' '_' '_']\n",
      " ['_' '_' '_' '_' 'X' 'X' '_' '_' '_' '_']\n",
      " ['_' '_' '_' '_' '_' '_' 'O' 'O' '_' '_']\n",
      " ['_' '_' '_' '_' '_' '_' '_' '_' '_' '_']\n",
      " ['_' '_' 'O' '_' '_' '_' '_' '_' '_' '_']\n",
      " ['_' '_' 'O' '_' '_' '_' 'O' '_' '_' '_']\n",
      " ['_' '_' 'O' '_' '_' '_' '_' '_' '_' '_']\n",
      " ['_' '_' 'O' 'O' 'O' 'O' '_' '_' '_' '_']\n",
      " ['_' '_' '_' 'O' '_' '_' '_' 'O' 'O' 'O']]\n"
     ]
    }
   ],
   "source": [
    "tablero_jugador[2, 4]=\"X\"\n",
    "tablero_jugador[2, 5]=\"X\"\n",
    "print(tablero_jugador)"
   ]
  },
  {
   "cell_type": "code",
   "execution_count": 49,
   "metadata": {},
   "outputs": [
    {
     "name": "stdout",
     "output_type": "stream",
     "text": [
      "¡Barco hundido!\n",
      "[['O' '_' '_' '_' '_' '_' '_' '_' '_' '_']\n",
      " ['_' '_' 'O' 'O' 'O' '_' '_' '_' '_' '_']\n",
      " ['_' '_' '_' '_' '■' '■' '_' '_' '_' '_']\n",
      " ['_' '_' '_' '_' '_' '_' 'O' 'O' '_' '_']\n",
      " ['_' '_' '_' '_' '_' '_' '_' '_' '_' '_']\n",
      " ['_' '_' 'O' '_' '_' '_' '_' '_' '_' '_']\n",
      " ['_' '_' 'O' '_' '_' '_' 'O' '_' '_' '_']\n",
      " ['_' '_' 'O' '_' '_' '_' '_' '_' '_' '_']\n",
      " ['_' '_' 'O' 'O' 'O' 'O' '_' '_' '_' '_']\n",
      " ['_' '_' '_' 'O' '_' '_' '_' 'O' 'O' 'O']]\n"
     ]
    }
   ],
   "source": [
    "hundido=False\n",
    "for i in barcos_jugador:\n",
    "    l_barco = len(i)\n",
    "    for h, k in i:\n",
    "        if tablero_jugador[h,k] == \"X\":\n",
    "            l_barco -= 1\n",
    "    if l_barco == 0:\n",
    "        print(\"¡Barco hundido!\")\n",
    "        for h, k in i:\n",
    "            tablero_jugador[h,k] = \"■\"\n",
    "    \n",
    "print(tablero_jugador)"
   ]
  },
  {
   "cell_type": "code",
   "execution_count": 8,
   "metadata": {},
   "outputs": [],
   "source": [
    "def evitar_errores_entrada(texto,tablero):\n",
    "    entrada=True\n",
    "    while entrada:\n",
    "        try:\n",
    "            entrada_jugador = int(input(str(texto)+\"(Valores válidos: 0-\"+str(len(tablero)-1)+\"\\n\"))\n",
    "            if entrada_jugador>=0 and entrada_jugador<=len(tablero)-1:\n",
    "                entrada=False\n",
    "            else:\n",
    "                print(\"No es un valor válido, por favor vuelve a intentarlo\",\"\\n\")\n",
    "                time.sleep(0.3)\n",
    "                continue\n",
    "        except:\n",
    "            print(\"No es un valor válido, por favor vuelve a intentarlo\",\"\\n\")\n",
    "            time.sleep(0.3)\n",
    "            continue\n",
    "    return entrada_jugador"
   ]
  },
  {
   "cell_type": "code",
   "execution_count": 12,
   "metadata": {},
   "outputs": [],
   "source": [
    "def input1(tablero):\n",
    "    fila = evitar_errores(\"Por favor, elige una fila\",tablero)\n",
    "    columna = evitar_errores(\"Por favor, elige una columna\",tablero)\n",
    "    return fila,columna"
   ]
  },
  {
   "cell_type": "code",
   "execution_count": 13,
   "metadata": {},
   "outputs": [
    {
     "name": "stdout",
     "output_type": "stream",
     "text": [
      "No es un valor válido, por favor vuelve a intentarlo \n",
      "\n",
      "No es un valor válido, por favor vuelve a intentarlo \n",
      "\n",
      "No es un valor válido, por favor vuelve a intentarlo \n",
      "\n",
      "(8, 9)\n"
     ]
    }
   ],
   "source": [
    "casilla=input1(tablero_jugador)\n",
    "print(casilla)"
   ]
  },
  {
   "cell_type": "code",
   "execution_count": 24,
   "metadata": {},
   "outputs": [],
   "source": [
    "def input1(tablero):\n",
    "    entrada=True\n",
    "    while entrada:\n",
    "        try:\n",
    "            fila=int(input(\"¿En qué fila vas a atacar? (Valores válidos: 0-\"+str(len(tablero)-1)+\")\\n\"))\n",
    "            if fila>=0 and fila<=len(tablero)-1:\n",
    "                entrada=False\n",
    "            else:\n",
    "                print(\"No es un valor válido, por favor vuelve a intentarlo\",\"\\n\")\n",
    "                time.sleep(0.3)\n",
    "                continue\n",
    "\n",
    "        except:\n",
    "            print(\"No es un valor válido, por favor vuelve a intentarlo\",\"\\n\")\n",
    "            time.sleep(0.3)\n",
    "            continue\n",
    "        \n",
    "        try:\n",
    "            columna=int(input(\"¿En qué columna vas a atacar? (Valores válidos: 0-\"+str(len(tablero)-1)+\")\\n\"))\n",
    "            if columna>=0 and columna<=len(tablero)-1:\n",
    "                entrada=False\n",
    "            else:\n",
    "                print(\"No es un valor válido, por favor vuelve a intentarlo\",\"\\n\")\n",
    "                time.sleep(0.3)\n",
    "                continue\n",
    "            \n",
    "        except:\n",
    "            print(\"No es un valor válido, por favor vuelve a intentarlo\",\"\\n\")\n",
    "            time.sleep(0.3)\n",
    "            continue\n",
    "        \n",
    "    return fila,columna"
   ]
  },
  {
   "cell_type": "code",
   "execution_count": 3,
   "metadata": {},
   "outputs": [],
   "source": [
    "def ver_tablero(tablero):\n",
    "    print(\"\\n\",tablero,\"\\n ------------------------------------------------------------\\n\")"
   ]
  },
  {
   "cell_type": "code",
   "execution_count": 15,
   "metadata": {},
   "outputs": [],
   "source": [
    "def hundir_barco(lista_barcos,tablero):\n",
    "    print(\"Puedes hundir\",len(lista_barcos),\"barcos\")\n",
    "\n",
    "    barco_hundido = evitar_errores_entrada(\"Elige un barco para hundir\",lista_barcos)\n",
    "\n",
    "    for fila,columna in lista_barcos[barco_hundido]:\n",
    "        if tablero[fila,columna]==\"■\":\n",
    "            \"Ese barco ya está hundido, saliendo del modo hundir barco\"\n",
    "            break\n",
    "        else:\n",
    "            tablero[fila,columna] = \"■\"\n",
    "    print(\"El barco nº\"+str(len(str(barco_hundido))),\"ha sido hundido.\")\n",
    "\n",
    "    return tablero\n",
    "    \n",
    "    "
   ]
  },
  {
   "cell_type": "code",
   "execution_count": 42,
   "metadata": {},
   "outputs": [
    {
     "data": {
      "text/plain": [
       "8487"
      ]
     },
     "execution_count": 42,
     "metadata": {},
     "output_type": "execute_result"
    }
   ],
   "source": [
    "texto = \"udjkasbkaddas\"\n",
    "int(input(str(texto)+\"(Valores válidos: 0-\"))"
   ]
  },
  {
   "cell_type": "code",
   "execution_count": 35,
   "metadata": {},
   "outputs": [
    {
     "name": "stdout",
     "output_type": "stream",
     "text": [
      "Seleccione una acción:\n",
      "  1- Atacar.\n",
      "  2- Ver tablero.\n",
      "  3- Ver tablero rival (Sin niebla).\n",
      "  4- Hundir un barco enemigo.\n",
      "  5- Hundir barco propio.\n",
      "  6- Ganar la partida.\n"
     ]
    }
   ],
   "source": [
    "print(\"Seleccione una acción:\\n  1- Atacar.\\n  2- Ver tablero.\\n  3- Ver tablero rival (Sin niebla).\\n  4- Hundir un barco enemigo.\\n  5- Hundir barco propio.\\n  6- Ganar la partida.\")"
   ]
  },
  {
   "cell_type": "code",
   "execution_count": 1,
   "metadata": {},
   "outputs": [],
   "source": [
    "import funciones as f\n",
    "import clases as cl\n",
    "\n",
    "jugador = cl.player(\"Javier\")"
   ]
  },
  {
   "cell_type": "code",
   "execution_count": 13,
   "metadata": {},
   "outputs": [
    {
     "name": "stdout",
     "output_type": "stream",
     "text": [
      "Máquina dispara en: (1, 2)\n",
      "Agua\n",
      "\n",
      " [['░' 'A' '░' '░' 'A' '░' '░' 'A' '░' '░']\n",
      " ['░' '░' 'A' '░' '░' '░' '░' '░' '░' '░']\n",
      " ['░' 'X' '░' '░' 'A' '░' '░' '░' '░' '░']\n",
      " ['A' '░' '░' '░' '░' '░' '░' '░' '░' '░']\n",
      " ['░' 'X' '░' '░' '░' '░' '░' '■' '░' '░']\n",
      " ['░' '░' '░' '░' '░' '░' '░' '░' '░' '░']\n",
      " ['░' '░' '░' '░' '■' '░' '░' '░' '░' '░']\n",
      " ['░' '░' '░' '░' '░' 'A' 'A' '░' '░' '░']\n",
      " ['░' '░' '░' '░' '░' '░' '░' '░' '░' '░']\n",
      " ['░' '░' '░' '░' '░' '░' '░' '░' '░' '░']] \n",
      " ------------------------------------------------------------\n",
      "\n",
      "[['_' 'A' '_' '_' 'A' '_' '_' 'A' '_' '_']\n",
      " ['_' 'O' 'A' '_' '_' 'O' '_' '_' '_' '_']\n",
      " ['_' 'X' '_' '_' 'A' 'O' '_' '_' 'O' '_']\n",
      " ['A' 'O' '_' '_' '_' 'O' 'O' '_' 'O' '_']\n",
      " ['O' 'X' '_' '_' '_' 'O' '_' '■' '_' '_']\n",
      " ['_' 'O' '_' '_' '_' '_' '_' '_' '_' '_']\n",
      " ['_' 'O' '_' '_' '■' '_' '_' '_' '_' '_']\n",
      " ['_' '_' '_' '_' '_' 'A' 'A' '_' '_' '_']\n",
      " ['_' '_' '_' '_' '_' 'O' 'O' 'O' 'O' '_']\n",
      " ['_' '_' '_' '_' '_' '_' '_' '_' '_' '_']]\n"
     ]
    }
   ],
   "source": [
    "f.disparo_random(jugador.tablero)\n",
    "jugador.ocultar_tablero()\n",
    "print(jugador.verificar_hundidos())"
   ]
  },
  {
   "cell_type": "code",
   "execution_count": 108,
   "metadata": {},
   "outputs": [
    {
     "name": "stdout",
     "output_type": "stream",
     "text": [
      "Máquina dispara en: (1, 7)\n",
      "Tocado, la máquina dispara de nuevo\n",
      "[['A' 'A' '_' 'A' 'A' 'A' 'A' 'A' 'A' '_']\n",
      " ['A' 'A' 'A' 'A' 'A' 'A' 'A' 'X' 'X' 'A']\n",
      " ['A' 'A' 'A' 'X' 'X' 'X' 'X' 'A' 'A' 'A']\n",
      " ['A' 'X' 'A' 'A' 'A' 'X' 'X' 'A' 'X' 'A']\n",
      " ['A' 'A' 'A' 'A' 'A' 'A' 'A' 'A' 'A' '_']\n",
      " ['A' 'A' 'A' 'A' 'A' 'A' 'X' 'A' '_' 'A']\n",
      " ['A' 'A' 'A' 'A' 'A' 'A' 'X' 'A' 'A' 'A']\n",
      " ['A' 'X' 'A' 'A' 'X' 'A' 'X' 'A' 'X' '_']\n",
      " ['A' 'X' 'X' 'A' 'X' 'A' 'A' 'A' 'A' 'A']\n",
      " ['A' 'A' 'A' 'A' 'X' 'A' 'A' 'A' 'A' 'A']]\n",
      "Javier\n",
      "[[(2, 6), (2, 5), (2, 4), (2, 3)], [(9, 4), (8, 4), (7, 4)], [(7, 6), (6, 6), (5, 6)], [(7, 1), (8, 1)], [(1, 8), (1, 7)], [(3, 5), (3, 6)], [(8, 2)], [(7, 8)], [(3, 1)], [(3, 8)]]\n",
      "Máquina\n"
     ]
    }
   ],
   "source": [
    "f.disparo_random(jugador.tablero)\n",
    "print(jugador.tablero)\n",
    "print(jugador.nombre)\n",
    "print(jugador.lista_barcos)\n",
    "print(maquina.nombre)"
   ]
  }
 ],
 "metadata": {
  "kernelspec": {
   "display_name": "Python 3",
   "language": "python",
   "name": "python3"
  },
  "language_info": {
   "codemirror_mode": {
    "name": "ipython",
    "version": 3
   },
   "file_extension": ".py",
   "mimetype": "text/x-python",
   "name": "python",
   "nbconvert_exporter": "python",
   "pygments_lexer": "ipython3",
   "version": "3.11.7"
  }
 },
 "nbformat": 4,
 "nbformat_minor": 2
}
